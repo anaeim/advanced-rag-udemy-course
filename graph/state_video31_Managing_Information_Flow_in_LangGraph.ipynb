{
 "cells": [
  {
   "cell_type": "markdown",
   "id": "2f1b2d83",
   "metadata": {},
   "source": [
    "Q. what is the default state in MessageGraph?\n",
    "A. a list of messages. each message can be LangChain message object (BaseMessage, AIMessage, HumanMessage, ...) or a dictionary.<br>\n",
    "here we want to define a state based on our need in a shape of a dictioanry."
   ]
  },
  {
   "cell_type": "markdown",
   "id": "0ff647f4",
   "metadata": {},
   "source": [
    "Q. why do we need to define a state?<br>\n",
    "A. To manage Information Flow in LangGraph.<br>\n",
    "to define our graph state, which is going to be passed around during our nodes/graph execution.\n"
   ]
  },
  {
   "cell_type": "markdown",
   "id": "676a3583",
   "metadata": {},
   "source": [
    "```python\n",
    "from typing import List, TypedDict\n",
    "\n",
    "class GraphState(TypedDict):\n",
    "    \"\"\"\n",
    "    Represents the state of our graph.\n",
    "\n",
    "    Attributes:\n",
    "        question: question\n",
    "        generation: LLM generation\n",
    "        web_search: whether to add search\n",
    "        documents: list of documents\n",
    "    \"\"\"\n",
    "\n",
    "    question: str\n",
    "    generation: str\n",
    "    web_search: bool\n",
    "    documents: List[str]\n",
    "```"
   ]
  }
 ],
 "metadata": {
  "language_info": {
   "name": "python"
  }
 },
 "nbformat": 4,
 "nbformat_minor": 5
}
