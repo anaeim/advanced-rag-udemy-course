{
 "cells": [
  {
   "cell_type": "markdown",
   "id": "916cb30d",
   "metadata": {},
   "source": [
    "![image](./../static/langgraph_adaptive_rag.png)\n",
    "\n",
    "Q. what is adaptive rag?<br>\n",
    "A. adaptive rag a fancy word of simply using a question router to route our question to different rack flows. <br> \n",
    "So in we're going to be using two flows. <br> \n",
    "So the first one is going to be taking the route to search on the internet and then to continue downstream on the same logic we have before. <br> \n",
    "And the second round is going to be to use the retrieval augmentation from our vector store. <br>\n",
    "So we're first going to take the user's question, and we're going to decide whether the information is stored in the vector store to answer that question. And if it's not, we're simply going to take the route to web search and answer from there. <br>\n",
    "you use `question_router` chain in `./chains/router.py` script to decide which route is more appropriate for this question."
   ]
  },
  {
   "cell_type": "markdown",
   "id": "233e771f",
   "metadata": {},
   "source": [
    "### Q. explain Literal in question_router chain?\n",
    "The Literal type from the typing module in Python specifies that a variable must be equal to one of a specific set of values. <br>\n",
    "Literal is a type hint from Python's typing module.<br>\n",
    "During RunTime, it may give you an error, like the exmple below. but with static type checker, it raises an error. <br>\n",
    "\n",
    "--> ex that violates Lieral type hinting:\n",
    "```python\n",
    "var1 :Literal[\"ali\", \"reza\"] = \"ahmad\"\n",
    "\n",
    "```\n",
    "\n",
    "In question_router:<br>\n",
    "\n",
    "```python\n",
    "datasource: Literal[\"vectorstore\", \"websearch\"]\n",
    "```\n",
    "\n",
    "This means the datasource field must be either `\"vectorstore\" or \"websearch\"—nothing` else is allowed. It enforces strict value checking at both runtime (via Pydantic) and via type hints for tools like linters or IDEs.\n",
    "\n",
    "## question_router chain:\n",
    "```python\n",
    "from typing import Literal\n",
    "\n",
    "from langchain_core.prompts import ChatPromptTemplate\n",
    "from pydantic import BaseModel, Field\n",
    "from langchain_openai import ChatOpenAI\n",
    "\n",
    "\n",
    "class RouteQuery(BaseModel):\n",
    "    \"\"\"Route a user query to the most relevant datasource.\"\"\"\n",
    "\n",
    "    datasource: Literal[\"vectorstore\", \"websearch\"] = Field(\n",
    "        ...,\n",
    "        description=\"Given a user question choose to route it to web search or a vectorstore.\",\n",
    "    )\n",
    "\n",
    "\n",
    "llm = ChatOpenAI(temperature=0)\n",
    "structured_llm_router = llm.with_structured_output(RouteQuery)\n",
    "\n",
    "system = \"\"\"You are an expert at routing a user question to a vectorstore or web search.\n",
    "The vectorstore contains documents related to agents, prompt engineering, and adversarial attacks.\n",
    "Use the vectorstore for questions on these topics. For all else, use web-search.\"\"\"\n",
    "route_prompt = ChatPromptTemplate.from_messages(\n",
    "    [\n",
    "        (\"system\", system),\n",
    "        (\"human\", \"{question}\"),\n",
    "    ]\n",
    ")\n",
    "\n",
    "question_router = route_prompt | structured_llm_router\n",
    "```"
   ]
  },
  {
   "cell_type": "code",
   "execution_count": 1,
   "id": "5dfc42b4",
   "metadata": {},
   "outputs": [],
   "source": [
    "from typing import Literal\n",
    "\n",
    "var1 :Literal[\"ali\", \"reza\"] = \"ali\""
   ]
  },
  {
   "cell_type": "code",
   "execution_count": 3,
   "id": "e442fc74",
   "metadata": {},
   "outputs": [
    {
     "data": {
      "text/plain": [
       "str"
      ]
     },
     "execution_count": 3,
     "metadata": {},
     "output_type": "execute_result"
    }
   ],
   "source": [
    "type(var1)"
   ]
  },
  {
   "cell_type": "code",
   "execution_count": 2,
   "id": "15bdffbe",
   "metadata": {},
   "outputs": [],
   "source": [
    "var1 :Literal[\"ali\", \"reza\"] = \"ahmad\""
   ]
  }
 ],
 "metadata": {
  "kernelspec": {
   "display_name": "langchain",
   "language": "python",
   "name": "python3"
  },
  "language_info": {
   "codemirror_mode": {
    "name": "ipython",
    "version": 3
   },
   "file_extension": ".py",
   "mimetype": "text/x-python",
   "name": "python",
   "nbconvert_exporter": "python",
   "pygments_lexer": "ipython3",
   "version": "3.10.13"
  }
 },
 "nbformat": 4,
 "nbformat_minor": 5
}
