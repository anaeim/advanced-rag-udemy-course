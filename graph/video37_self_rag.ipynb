{
 "cells": [
  {
   "cell_type": "markdown",
   "id": "47956e9e",
   "metadata": {},
   "source": [
    "![image](./../static/langgraph_adaptive_rag.png)"
   ]
  },
  {
   "cell_type": "markdown",
   "id": "2d6e2aac",
   "metadata": {},
   "source": [
    "## Q. what is the main idea of self RAG?\n",
    "we are going to reflect on the answer that the model generated.\n",
    "\n",
    "### how?\n",
    "- evaluate hallucination <br>\n",
    "    So we need to check whether the answer is actually grounded in the documents. Now, if it's grounded, then that's cool. And we're ready to the second step. \n",
    "\n",
    "- does your answer answer the question an user asked? <br>\n",
    "    the second step is to reflect on the answer. However, now we want to reflect whether the answer answers the question that the user originally asked. And if the answer is yes for that, then this means we can return the answer to the user. And if the answer does not answer the question, then this probably means that we need to make a web search, because we're not going to find any additional information in the vector store."
   ]
  },
  {
   "cell_type": "markdown",
   "id": "858be453",
   "metadata": {},
   "source": []
  }
 ],
 "metadata": {
  "language_info": {
   "name": "python"
  }
 },
 "nbformat": 4,
 "nbformat_minor": 5
}
