{
 "cells": [
  {
   "cell_type": "markdown",
   "id": "2f1b2d83",
   "metadata": {},
   "source": [
    "Q. what is the default state in MessageGraph?\n",
    "A. a list of messages. each message can be LangChain message object (BaseMessage, AIMessage, HumanMessage, ...) or a dictionary.<br>\n",
    "here we want to define a state based on our need in a shape of a dictioanry."
   ]
  },
  {
   "cell_type": "markdown",
   "id": "0ff647f4",
   "metadata": {},
   "source": [
    "Q. why do we need to define a state?<br>\n",
    "A. To manage Information Flow in LangGraph.<br>\n",
    "when you define the graph, the graph state is going to be passed to every node. <br>\n",
    "after node execution, the node can have a return value to update the state."
   ]
  },
  {
   "cell_type": "markdown",
   "id": "8609531c",
   "metadata": {},
   "source": [
    "Q .how do you update the state you defined? the dictionary? <br>\n",
    "each node return one key like one node returns the generation, the VDB node returns docs. so each node is going to replace one key of the state (state as a dictionary). <br>\n",
    "you can specify how you want to update it. it can be either by appending to the list or replacing, setting the value.\n",
    "\n",
    "### EX from retriver node:\n",
    "```python\n",
    "def retrieve(state: GraphState) -> Dict[str, Any]:\n",
    "    print(\"---RETRIEVE---\")\n",
    "    question = state[\"question\"]\n",
    "\n",
    "    documents = retriever.invoke(question)\n",
    "    return {\"documents\": documents, \"question\": question}\n",
    "```"
   ]
  },
  {
   "cell_type": "markdown",
   "id": "676a3583",
   "metadata": {},
   "source": [
    "```python\n",
    "from typing import List, TypedDict\n",
    "\n",
    "class GraphState(TypedDict):\n",
    "    \"\"\"\n",
    "    Represents the state of our graph.\n",
    "\n",
    "    Attributes:\n",
    "        question: question\n",
    "        generation: LLM generation\n",
    "        web_search: whether to add search\n",
    "        documents: list of documents\n",
    "    \"\"\"\n",
    "\n",
    "    question: str\n",
    "    generation: str\n",
    "    web_search: bool\n",
    "    documents: List[str]\n",
    "```"
   ]
  }
 ],
 "metadata": {
  "language_info": {
   "name": "python"
  }
 },
 "nbformat": 4,
 "nbformat_minor": 5
}
